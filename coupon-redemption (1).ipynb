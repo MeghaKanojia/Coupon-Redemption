{
 "cells": [
  {
   "cell_type": "code",
   "execution_count": 1,
   "metadata": {
    "_cell_guid": "b1076dfc-b9ad-4769-8c92-a6c4dae69d19",
    "_uuid": "8f2839f25d086af736a60e9eeb907d3b93b6e0e5",
    "execution": {
     "iopub.execute_input": "2020-10-12T05:50:44.072249Z",
     "iopub.status.busy": "2020-10-12T05:50:44.071343Z",
     "iopub.status.idle": "2020-10-12T05:50:44.079548Z",
     "shell.execute_reply": "2020-10-12T05:50:44.080734Z"
    },
    "papermill": {
     "duration": 0.033253,
     "end_time": "2020-10-12T05:50:44.080976",
     "exception": false,
     "start_time": "2020-10-12T05:50:44.047723",
     "status": "completed"
    },
    "tags": []
   },
   "outputs": [
    {
     "name": "stdout",
     "output_type": "stream",
     "text": [
      "/kaggle/input/predicting-coupon-redemption/test.csv\n",
      "/kaggle/input/predicting-coupon-redemption/Datasets columns explanation_.docx\n",
      "/kaggle/input/predicting-coupon-redemption/train/customer_transaction_data.csv\n",
      "/kaggle/input/predicting-coupon-redemption/train/item_data.csv\n",
      "/kaggle/input/predicting-coupon-redemption/train/train.csv\n",
      "/kaggle/input/predicting-coupon-redemption/train/coupon_item_mapping.csv\n",
      "/kaggle/input/predicting-coupon-redemption/train/customer_demographics.csv\n",
      "/kaggle/input/predicting-coupon-redemption/train/campaign_data.csv\n"
     ]
    }
   ],
   "source": [
    "# This Python 3 environment comes with many helpful analytics libraries installed\n",
    "# It is defined by the kaggle/python Docker image: https://github.com/kaggle/docker-python\n",
    "# For example, here's several helpful packages to load\n",
    "\n",
    "import numpy as np # linear algebra\n",
    "import pandas as pd # data processing, CSV file I/O (e.g. pd.read_csv)\n",
    "\n",
    "# Input data files are available in the read-only \"../input/\" directory\n",
    "# For example, running this (by clicking run or pressing Shift+Enter) will list all files under the input directory\n",
    "\n",
    "import os\n",
    "for dirname, _, filenames in os.walk('/kaggle/input'):\n",
    "    for filename in filenames:\n",
    "        print(os.path.join(dirname, filename))\n",
    "\n",
    "# You can write up to 5GB to the current directory (/kaggle/working/) that gets preserved as output when you create a version using \"Save & Run All\" \n",
    "# You can also write temporary files to /kaggle/temp/, but they won't be saved outside of the current session"
   ]
  },
  {
   "cell_type": "code",
   "execution_count": 2,
   "metadata": {
    "execution": {
     "iopub.execute_input": "2020-10-12T05:50:44.118581Z",
     "iopub.status.busy": "2020-10-12T05:50:44.117804Z",
     "iopub.status.idle": "2020-10-12T05:50:45.213745Z",
     "shell.execute_reply": "2020-10-12T05:50:45.213036Z"
    },
    "papermill": {
     "duration": 1.116254,
     "end_time": "2020-10-12T05:50:45.213880",
     "exception": false,
     "start_time": "2020-10-12T05:50:44.097626",
     "status": "completed"
    },
    "tags": []
   },
   "outputs": [],
   "source": [
    "import seaborn as sns"
   ]
  },
  {
   "cell_type": "code",
   "execution_count": 3,
   "metadata": {
    "_cell_guid": "79c7e3d0-c299-4dcb-8224-4455121ee9b0",
    "_uuid": "d629ff2d2480ee46fbb7e2d37f6b5fab8052498a",
    "execution": {
     "iopub.execute_input": "2020-10-12T05:50:45.253631Z",
     "iopub.status.busy": "2020-10-12T05:50:45.252281Z",
     "iopub.status.idle": "2020-10-12T05:50:45.331839Z",
     "shell.execute_reply": "2020-10-12T05:50:45.332401Z"
    },
    "papermill": {
     "duration": 0.103028,
     "end_time": "2020-10-12T05:50:45.332563",
     "exception": false,
     "start_time": "2020-10-12T05:50:45.229535",
     "status": "completed"
    },
    "tags": []
   },
   "outputs": [
    {
     "data": {
      "text/html": [
       "<div>\n",
       "<style scoped>\n",
       "    .dataframe tbody tr th:only-of-type {\n",
       "        vertical-align: middle;\n",
       "    }\n",
       "\n",
       "    .dataframe tbody tr th {\n",
       "        vertical-align: top;\n",
       "    }\n",
       "\n",
       "    .dataframe thead th {\n",
       "        text-align: right;\n",
       "    }\n",
       "</style>\n",
       "<table border=\"1\" class=\"dataframe\">\n",
       "  <thead>\n",
       "    <tr style=\"text-align: right;\">\n",
       "      <th></th>\n",
       "      <th>id</th>\n",
       "      <th>campaign_id</th>\n",
       "      <th>coupon_id</th>\n",
       "      <th>customer_id</th>\n",
       "      <th>redemption_status</th>\n",
       "    </tr>\n",
       "  </thead>\n",
       "  <tbody>\n",
       "    <tr>\n",
       "      <th>0</th>\n",
       "      <td>1</td>\n",
       "      <td>13</td>\n",
       "      <td>27</td>\n",
       "      <td>1053</td>\n",
       "      <td>0</td>\n",
       "    </tr>\n",
       "    <tr>\n",
       "      <th>1</th>\n",
       "      <td>2</td>\n",
       "      <td>13</td>\n",
       "      <td>116</td>\n",
       "      <td>48</td>\n",
       "      <td>0</td>\n",
       "    </tr>\n",
       "    <tr>\n",
       "      <th>2</th>\n",
       "      <td>6</td>\n",
       "      <td>9</td>\n",
       "      <td>635</td>\n",
       "      <td>205</td>\n",
       "      <td>0</td>\n",
       "    </tr>\n",
       "    <tr>\n",
       "      <th>3</th>\n",
       "      <td>7</td>\n",
       "      <td>13</td>\n",
       "      <td>644</td>\n",
       "      <td>1050</td>\n",
       "      <td>0</td>\n",
       "    </tr>\n",
       "    <tr>\n",
       "      <th>4</th>\n",
       "      <td>9</td>\n",
       "      <td>8</td>\n",
       "      <td>1017</td>\n",
       "      <td>1489</td>\n",
       "      <td>0</td>\n",
       "    </tr>\n",
       "    <tr>\n",
       "      <th>...</th>\n",
       "      <td>...</td>\n",
       "      <td>...</td>\n",
       "      <td>...</td>\n",
       "      <td>...</td>\n",
       "      <td>...</td>\n",
       "    </tr>\n",
       "    <tr>\n",
       "      <th>78364</th>\n",
       "      <td>128587</td>\n",
       "      <td>8</td>\n",
       "      <td>71</td>\n",
       "      <td>1523</td>\n",
       "      <td>0</td>\n",
       "    </tr>\n",
       "    <tr>\n",
       "      <th>78365</th>\n",
       "      <td>128589</td>\n",
       "      <td>30</td>\n",
       "      <td>547</td>\n",
       "      <td>937</td>\n",
       "      <td>0</td>\n",
       "    </tr>\n",
       "    <tr>\n",
       "      <th>78366</th>\n",
       "      <td>128590</td>\n",
       "      <td>8</td>\n",
       "      <td>754</td>\n",
       "      <td>1004</td>\n",
       "      <td>0</td>\n",
       "    </tr>\n",
       "    <tr>\n",
       "      <th>78367</th>\n",
       "      <td>128592</td>\n",
       "      <td>13</td>\n",
       "      <td>134</td>\n",
       "      <td>71</td>\n",
       "      <td>0</td>\n",
       "    </tr>\n",
       "    <tr>\n",
       "      <th>78368</th>\n",
       "      <td>128595</td>\n",
       "      <td>13</td>\n",
       "      <td>681</td>\n",
       "      <td>623</td>\n",
       "      <td>0</td>\n",
       "    </tr>\n",
       "  </tbody>\n",
       "</table>\n",
       "<p>78369 rows × 5 columns</p>\n",
       "</div>"
      ],
      "text/plain": [
       "           id  campaign_id  coupon_id  customer_id  redemption_status\n",
       "0           1           13         27         1053                  0\n",
       "1           2           13        116           48                  0\n",
       "2           6            9        635          205                  0\n",
       "3           7           13        644         1050                  0\n",
       "4           9            8       1017         1489                  0\n",
       "...       ...          ...        ...          ...                ...\n",
       "78364  128587            8         71         1523                  0\n",
       "78365  128589           30        547          937                  0\n",
       "78366  128590            8        754         1004                  0\n",
       "78367  128592           13        134           71                  0\n",
       "78368  128595           13        681          623                  0\n",
       "\n",
       "[78369 rows x 5 columns]"
      ]
     },
     "execution_count": 3,
     "metadata": {},
     "output_type": "execute_result"
    }
   ],
   "source": [
    "# Viewing training dataset\n",
    "train_df=pd.read_csv('/kaggle/input/predicting-coupon-redemption/train/train.csv')\n",
    "train_df"
   ]
  },
  {
   "cell_type": "code",
   "execution_count": 4,
   "metadata": {
    "execution": {
     "iopub.execute_input": "2020-10-12T05:50:45.371630Z",
     "iopub.status.busy": "2020-10-12T05:50:45.370860Z",
     "iopub.status.idle": "2020-10-12T05:50:45.386540Z",
     "shell.execute_reply": "2020-10-12T05:50:45.385934Z"
    },
    "papermill": {
     "duration": 0.037565,
     "end_time": "2020-10-12T05:50:45.386674",
     "exception": false,
     "start_time": "2020-10-12T05:50:45.349109",
     "status": "completed"
    },
    "tags": []
   },
   "outputs": [
    {
     "name": "stdout",
     "output_type": "stream",
     "text": [
      "<class 'pandas.core.frame.DataFrame'>\n",
      "RangeIndex: 78369 entries, 0 to 78368\n",
      "Data columns (total 5 columns):\n",
      " #   Column             Non-Null Count  Dtype\n",
      "---  ------             --------------  -----\n",
      " 0   id                 78369 non-null  int64\n",
      " 1   campaign_id        78369 non-null  int64\n",
      " 2   coupon_id          78369 non-null  int64\n",
      " 3   customer_id        78369 non-null  int64\n",
      " 4   redemption_status  78369 non-null  int64\n",
      "dtypes: int64(5)\n",
      "memory usage: 3.0 MB\n"
     ]
    }
   ],
   "source": [
    "#checking for null values in training dataset\n",
    "train_df.info()"
   ]
  },
  {
   "cell_type": "code",
   "execution_count": 5,
   "metadata": {
    "execution": {
     "iopub.execute_input": "2020-10-12T05:50:45.427019Z",
     "iopub.status.busy": "2020-10-12T05:50:45.426178Z",
     "iopub.status.idle": "2020-10-12T05:50:45.467355Z",
     "shell.execute_reply": "2020-10-12T05:50:45.467924Z"
    },
    "papermill": {
     "duration": 0.064367,
     "end_time": "2020-10-12T05:50:45.468098",
     "exception": false,
     "start_time": "2020-10-12T05:50:45.403731",
     "status": "completed"
    },
    "tags": []
   },
   "outputs": [
    {
     "data": {
      "text/html": [
       "<div>\n",
       "<style scoped>\n",
       "    .dataframe tbody tr th:only-of-type {\n",
       "        vertical-align: middle;\n",
       "    }\n",
       "\n",
       "    .dataframe tbody tr th {\n",
       "        vertical-align: top;\n",
       "    }\n",
       "\n",
       "    .dataframe thead th {\n",
       "        text-align: right;\n",
       "    }\n",
       "</style>\n",
       "<table border=\"1\" class=\"dataframe\">\n",
       "  <thead>\n",
       "    <tr style=\"text-align: right;\">\n",
       "      <th></th>\n",
       "      <th>id</th>\n",
       "      <th>campaign_id</th>\n",
       "      <th>coupon_id</th>\n",
       "      <th>customer_id</th>\n",
       "    </tr>\n",
       "  </thead>\n",
       "  <tbody>\n",
       "    <tr>\n",
       "      <th>0</th>\n",
       "      <td>3</td>\n",
       "      <td>22</td>\n",
       "      <td>869</td>\n",
       "      <td>967</td>\n",
       "    </tr>\n",
       "    <tr>\n",
       "      <th>1</th>\n",
       "      <td>4</td>\n",
       "      <td>20</td>\n",
       "      <td>389</td>\n",
       "      <td>1566</td>\n",
       "    </tr>\n",
       "    <tr>\n",
       "      <th>2</th>\n",
       "      <td>5</td>\n",
       "      <td>22</td>\n",
       "      <td>981</td>\n",
       "      <td>510</td>\n",
       "    </tr>\n",
       "    <tr>\n",
       "      <th>3</th>\n",
       "      <td>8</td>\n",
       "      <td>25</td>\n",
       "      <td>1069</td>\n",
       "      <td>361</td>\n",
       "    </tr>\n",
       "    <tr>\n",
       "      <th>4</th>\n",
       "      <td>10</td>\n",
       "      <td>17</td>\n",
       "      <td>498</td>\n",
       "      <td>811</td>\n",
       "    </tr>\n",
       "    <tr>\n",
       "      <th>...</th>\n",
       "      <td>...</td>\n",
       "      <td>...</td>\n",
       "      <td>...</td>\n",
       "      <td>...</td>\n",
       "    </tr>\n",
       "    <tr>\n",
       "      <th>50221</th>\n",
       "      <td>128584</td>\n",
       "      <td>20</td>\n",
       "      <td>843</td>\n",
       "      <td>501</td>\n",
       "    </tr>\n",
       "    <tr>\n",
       "      <th>50222</th>\n",
       "      <td>128588</td>\n",
       "      <td>25</td>\n",
       "      <td>415</td>\n",
       "      <td>481</td>\n",
       "    </tr>\n",
       "    <tr>\n",
       "      <th>50223</th>\n",
       "      <td>128591</td>\n",
       "      <td>25</td>\n",
       "      <td>596</td>\n",
       "      <td>1336</td>\n",
       "    </tr>\n",
       "    <tr>\n",
       "      <th>50224</th>\n",
       "      <td>128593</td>\n",
       "      <td>22</td>\n",
       "      <td>518</td>\n",
       "      <td>748</td>\n",
       "    </tr>\n",
       "    <tr>\n",
       "      <th>50225</th>\n",
       "      <td>128594</td>\n",
       "      <td>18</td>\n",
       "      <td>988</td>\n",
       "      <td>851</td>\n",
       "    </tr>\n",
       "  </tbody>\n",
       "</table>\n",
       "<p>50226 rows × 4 columns</p>\n",
       "</div>"
      ],
      "text/plain": [
       "           id  campaign_id  coupon_id  customer_id\n",
       "0           3           22        869          967\n",
       "1           4           20        389         1566\n",
       "2           5           22        981          510\n",
       "3           8           25       1069          361\n",
       "4          10           17        498          811\n",
       "...       ...          ...        ...          ...\n",
       "50221  128584           20        843          501\n",
       "50222  128588           25        415          481\n",
       "50223  128591           25        596         1336\n",
       "50224  128593           22        518          748\n",
       "50225  128594           18        988          851\n",
       "\n",
       "[50226 rows x 4 columns]"
      ]
     },
     "execution_count": 5,
     "metadata": {},
     "output_type": "execute_result"
    }
   ],
   "source": [
    "# Viewing test dataset\n",
    "test_df=pd.read_csv('/kaggle/input/predicting-coupon-redemption/test.csv')\n",
    "test_df"
   ]
  },
  {
   "cell_type": "code",
   "execution_count": 6,
   "metadata": {
    "execution": {
     "iopub.execute_input": "2020-10-12T05:50:45.510082Z",
     "iopub.status.busy": "2020-10-12T05:50:45.509304Z",
     "iopub.status.idle": "2020-10-12T05:50:45.520175Z",
     "shell.execute_reply": "2020-10-12T05:50:45.520746Z"
    },
    "papermill": {
     "duration": 0.034835,
     "end_time": "2020-10-12T05:50:45.520926",
     "exception": false,
     "start_time": "2020-10-12T05:50:45.486091",
     "status": "completed"
    },
    "tags": []
   },
   "outputs": [
    {
     "name": "stdout",
     "output_type": "stream",
     "text": [
      "<class 'pandas.core.frame.DataFrame'>\n",
      "RangeIndex: 50226 entries, 0 to 50225\n",
      "Data columns (total 4 columns):\n",
      " #   Column       Non-Null Count  Dtype\n",
      "---  ------       --------------  -----\n",
      " 0   id           50226 non-null  int64\n",
      " 1   campaign_id  50226 non-null  int64\n",
      " 2   coupon_id    50226 non-null  int64\n",
      " 3   customer_id  50226 non-null  int64\n",
      "dtypes: int64(4)\n",
      "memory usage: 1.5 MB\n"
     ]
    }
   ],
   "source": [
    "# checking for null values in test dataset\n",
    "test_df.info()"
   ]
  },
  {
   "cell_type": "code",
   "execution_count": 7,
   "metadata": {
    "execution": {
     "iopub.execute_input": "2020-10-12T05:50:45.566318Z",
     "iopub.status.busy": "2020-10-12T05:50:45.565560Z",
     "iopub.status.idle": "2020-10-12T05:50:45.591059Z",
     "shell.execute_reply": "2020-10-12T05:50:45.590395Z"
    },
    "papermill": {
     "duration": 0.049714,
     "end_time": "2020-10-12T05:50:45.591181",
     "exception": false,
     "start_time": "2020-10-12T05:50:45.541467",
     "status": "completed"
    },
    "tags": []
   },
   "outputs": [
    {
     "data": {
      "text/html": [
       "<div>\n",
       "<style scoped>\n",
       "    .dataframe tbody tr th:only-of-type {\n",
       "        vertical-align: middle;\n",
       "    }\n",
       "\n",
       "    .dataframe tbody tr th {\n",
       "        vertical-align: top;\n",
       "    }\n",
       "\n",
       "    .dataframe thead th {\n",
       "        text-align: right;\n",
       "    }\n",
       "</style>\n",
       "<table border=\"1\" class=\"dataframe\">\n",
       "  <thead>\n",
       "    <tr style=\"text-align: right;\">\n",
       "      <th></th>\n",
       "      <th>customer_id</th>\n",
       "      <th>age_range</th>\n",
       "      <th>marital_status</th>\n",
       "      <th>rented</th>\n",
       "      <th>family_size</th>\n",
       "      <th>no_of_children</th>\n",
       "      <th>income_bracket</th>\n",
       "    </tr>\n",
       "  </thead>\n",
       "  <tbody>\n",
       "    <tr>\n",
       "      <th>0</th>\n",
       "      <td>1</td>\n",
       "      <td>70+</td>\n",
       "      <td>Married</td>\n",
       "      <td>0</td>\n",
       "      <td>2</td>\n",
       "      <td>NaN</td>\n",
       "      <td>4</td>\n",
       "    </tr>\n",
       "    <tr>\n",
       "      <th>1</th>\n",
       "      <td>6</td>\n",
       "      <td>46-55</td>\n",
       "      <td>Married</td>\n",
       "      <td>0</td>\n",
       "      <td>2</td>\n",
       "      <td>NaN</td>\n",
       "      <td>5</td>\n",
       "    </tr>\n",
       "    <tr>\n",
       "      <th>2</th>\n",
       "      <td>7</td>\n",
       "      <td>26-35</td>\n",
       "      <td>NaN</td>\n",
       "      <td>0</td>\n",
       "      <td>3</td>\n",
       "      <td>1</td>\n",
       "      <td>3</td>\n",
       "    </tr>\n",
       "    <tr>\n",
       "      <th>3</th>\n",
       "      <td>8</td>\n",
       "      <td>26-35</td>\n",
       "      <td>NaN</td>\n",
       "      <td>0</td>\n",
       "      <td>4</td>\n",
       "      <td>2</td>\n",
       "      <td>6</td>\n",
       "    </tr>\n",
       "    <tr>\n",
       "      <th>4</th>\n",
       "      <td>10</td>\n",
       "      <td>46-55</td>\n",
       "      <td>Single</td>\n",
       "      <td>0</td>\n",
       "      <td>1</td>\n",
       "      <td>NaN</td>\n",
       "      <td>5</td>\n",
       "    </tr>\n",
       "    <tr>\n",
       "      <th>...</th>\n",
       "      <td>...</td>\n",
       "      <td>...</td>\n",
       "      <td>...</td>\n",
       "      <td>...</td>\n",
       "      <td>...</td>\n",
       "      <td>...</td>\n",
       "      <td>...</td>\n",
       "    </tr>\n",
       "    <tr>\n",
       "      <th>755</th>\n",
       "      <td>1577</td>\n",
       "      <td>36-45</td>\n",
       "      <td>NaN</td>\n",
       "      <td>0</td>\n",
       "      <td>2</td>\n",
       "      <td>NaN</td>\n",
       "      <td>5</td>\n",
       "    </tr>\n",
       "    <tr>\n",
       "      <th>756</th>\n",
       "      <td>1578</td>\n",
       "      <td>46-55</td>\n",
       "      <td>Married</td>\n",
       "      <td>0</td>\n",
       "      <td>3</td>\n",
       "      <td>1</td>\n",
       "      <td>6</td>\n",
       "    </tr>\n",
       "    <tr>\n",
       "      <th>757</th>\n",
       "      <td>1579</td>\n",
       "      <td>46-55</td>\n",
       "      <td>NaN</td>\n",
       "      <td>0</td>\n",
       "      <td>1</td>\n",
       "      <td>NaN</td>\n",
       "      <td>4</td>\n",
       "    </tr>\n",
       "    <tr>\n",
       "      <th>758</th>\n",
       "      <td>1580</td>\n",
       "      <td>26-35</td>\n",
       "      <td>NaN</td>\n",
       "      <td>0</td>\n",
       "      <td>2</td>\n",
       "      <td>NaN</td>\n",
       "      <td>5</td>\n",
       "    </tr>\n",
       "    <tr>\n",
       "      <th>759</th>\n",
       "      <td>1581</td>\n",
       "      <td>26-35</td>\n",
       "      <td>NaN</td>\n",
       "      <td>0</td>\n",
       "      <td>3</td>\n",
       "      <td>1</td>\n",
       "      <td>1</td>\n",
       "    </tr>\n",
       "  </tbody>\n",
       "</table>\n",
       "<p>760 rows × 7 columns</p>\n",
       "</div>"
      ],
      "text/plain": [
       "     customer_id age_range marital_status  rented family_size no_of_children  \\\n",
       "0              1       70+        Married       0           2            NaN   \n",
       "1              6     46-55        Married       0           2            NaN   \n",
       "2              7     26-35            NaN       0           3              1   \n",
       "3              8     26-35            NaN       0           4              2   \n",
       "4             10     46-55         Single       0           1            NaN   \n",
       "..           ...       ...            ...     ...         ...            ...   \n",
       "755         1577     36-45            NaN       0           2            NaN   \n",
       "756         1578     46-55        Married       0           3              1   \n",
       "757         1579     46-55            NaN       0           1            NaN   \n",
       "758         1580     26-35            NaN       0           2            NaN   \n",
       "759         1581     26-35            NaN       0           3              1   \n",
       "\n",
       "     income_bracket  \n",
       "0                 4  \n",
       "1                 5  \n",
       "2                 3  \n",
       "3                 6  \n",
       "4                 5  \n",
       "..              ...  \n",
       "755               5  \n",
       "756               6  \n",
       "757               4  \n",
       "758               5  \n",
       "759               1  \n",
       "\n",
       "[760 rows x 7 columns]"
      ]
     },
     "execution_count": 7,
     "metadata": {},
     "output_type": "execute_result"
    }
   ],
   "source": [
    "#Customer demographics dataset\n",
    "cus_dem_df=pd.read_csv('/kaggle/input/predicting-coupon-redemption/train/customer_demographics.csv')\n",
    "cus_dem_df"
   ]
  },
  {
   "cell_type": "code",
   "execution_count": 8,
   "metadata": {
    "execution": {
     "iopub.execute_input": "2020-10-12T05:50:45.642929Z",
     "iopub.status.busy": "2020-10-12T05:50:45.642136Z",
     "iopub.status.idle": "2020-10-12T05:50:45.646996Z",
     "shell.execute_reply": "2020-10-12T05:50:45.646293Z"
    },
    "papermill": {
     "duration": 0.036672,
     "end_time": "2020-10-12T05:50:45.647124",
     "exception": false,
     "start_time": "2020-10-12T05:50:45.610452",
     "status": "completed"
    },
    "tags": []
   },
   "outputs": [
    {
     "name": "stdout",
     "output_type": "stream",
     "text": [
      "<class 'pandas.core.frame.DataFrame'>\n",
      "RangeIndex: 760 entries, 0 to 759\n",
      "Data columns (total 7 columns):\n",
      " #   Column          Non-Null Count  Dtype \n",
      "---  ------          --------------  ----- \n",
      " 0   customer_id     760 non-null    int64 \n",
      " 1   age_range       760 non-null    object\n",
      " 2   marital_status  431 non-null    object\n",
      " 3   rented          760 non-null    int64 \n",
      " 4   family_size     760 non-null    object\n",
      " 5   no_of_children  222 non-null    object\n",
      " 6   income_bracket  760 non-null    int64 \n",
      "dtypes: int64(3), object(4)\n",
      "memory usage: 41.7+ KB\n"
     ]
    }
   ],
   "source": [
    "# checking for null values in customer demographics dataset\n",
    "cus_dem_df.info()"
   ]
  },
  {
   "cell_type": "code",
   "execution_count": 9,
   "metadata": {
    "execution": {
     "iopub.execute_input": "2020-10-12T05:50:45.696296Z",
     "iopub.status.busy": "2020-10-12T05:50:45.695187Z",
     "iopub.status.idle": "2020-10-12T05:50:45.698820Z",
     "shell.execute_reply": "2020-10-12T05:50:45.698084Z"
    },
    "papermill": {
     "duration": 0.031758,
     "end_time": "2020-10-12T05:50:45.698942",
     "exception": false,
     "start_time": "2020-10-12T05:50:45.667184",
     "status": "completed"
    },
    "tags": []
   },
   "outputs": [],
   "source": [
    "#preprocessing dataset: replacing null values\n",
    "cus_dem_df['no_of_children'].replace({np.NaN:0},inplace=True)\n",
    "cus_dem_df['marital_status'].replace({np.NaN:'Unknown'},inplace=True)"
   ]
  },
  {
   "cell_type": "code",
   "execution_count": 10,
   "metadata": {
    "execution": {
     "iopub.execute_input": "2020-10-12T05:50:45.751437Z",
     "iopub.status.busy": "2020-10-12T05:50:45.750555Z",
     "iopub.status.idle": "2020-10-12T05:50:45.754904Z",
     "shell.execute_reply": "2020-10-12T05:50:45.754162Z"
    },
    "papermill": {
     "duration": 0.035776,
     "end_time": "2020-10-12T05:50:45.755056",
     "exception": false,
     "start_time": "2020-10-12T05:50:45.719280",
     "status": "completed"
    },
    "tags": []
   },
   "outputs": [
    {
     "name": "stdout",
     "output_type": "stream",
     "text": [
      "<class 'pandas.core.frame.DataFrame'>\n",
      "RangeIndex: 760 entries, 0 to 759\n",
      "Data columns (total 7 columns):\n",
      " #   Column          Non-Null Count  Dtype \n",
      "---  ------          --------------  ----- \n",
      " 0   customer_id     760 non-null    int64 \n",
      " 1   age_range       760 non-null    object\n",
      " 2   marital_status  760 non-null    object\n",
      " 3   rented          760 non-null    int64 \n",
      " 4   family_size     760 non-null    object\n",
      " 5   no_of_children  760 non-null    object\n",
      " 6   income_bracket  760 non-null    int64 \n",
      "dtypes: int64(3), object(4)\n",
      "memory usage: 41.7+ KB\n"
     ]
    }
   ],
   "source": [
    "# Again, checking for null values after preprocessing customer demographics dataset\n",
    "cus_dem_df.info()"
   ]
  },
  {
   "cell_type": "code",
   "execution_count": 11,
   "metadata": {
    "execution": {
     "iopub.execute_input": "2020-10-12T05:50:45.806314Z",
     "iopub.status.busy": "2020-10-12T05:50:45.805506Z",
     "iopub.status.idle": "2020-10-12T05:50:45.922380Z",
     "shell.execute_reply": "2020-10-12T05:50:45.921712Z"
    },
    "papermill": {
     "duration": 0.14658,
     "end_time": "2020-10-12T05:50:45.922510",
     "exception": false,
     "start_time": "2020-10-12T05:50:45.775930",
     "status": "completed"
    },
    "tags": []
   },
   "outputs": [],
   "source": [
    "# merging train_df and cus_dem_df\n",
    "train_dem_df=pd.merge(train_df,cus_dem_df,left_on='customer_id',right_on='customer_id')\n",
    "\n",
    "# merging test_df and cus_dem_df\n",
    "test_dem_df=pd.merge(test_df, cus_dem_df, left_on='customer_id',right_on='customer_id')\n",
    "\n",
    "#one_hot_encoding\n",
    "train_dem_df=pd.get_dummies(train_dem_df)\n",
    "test_dem_df=pd.get_dummies(test_dem_df)\n",
    "final_train, final_test = train_dem_df.align(test_dem_df,join='inner',axis=1)\n"
   ]
  },
  {
   "cell_type": "code",
   "execution_count": 12,
   "metadata": {
    "execution": {
     "iopub.execute_input": "2020-10-12T05:50:45.971426Z",
     "iopub.status.busy": "2020-10-12T05:50:45.970430Z",
     "iopub.status.idle": "2020-10-12T05:50:45.975356Z",
     "shell.execute_reply": "2020-10-12T05:50:45.974609Z"
    },
    "papermill": {
     "duration": 0.031884,
     "end_time": "2020-10-12T05:50:45.975480",
     "exception": false,
     "start_time": "2020-10-12T05:50:45.943596",
     "status": "completed"
    },
    "tags": []
   },
   "outputs": [
    {
     "data": {
      "text/plain": [
       "Index(['id', 'campaign_id', 'coupon_id', 'customer_id', 'rented',\n",
       "       'income_bracket', 'age_range_18-25', 'age_range_26-35',\n",
       "       'age_range_36-45', 'age_range_46-55', 'age_range_56-70',\n",
       "       'age_range_70+', 'marital_status_Married', 'marital_status_Single',\n",
       "       'marital_status_Unknown', 'family_size_1', 'family_size_2',\n",
       "       'family_size_3', 'family_size_4', 'family_size_5+', 'no_of_children_0',\n",
       "       'no_of_children_1', 'no_of_children_2', 'no_of_children_3+'],\n",
       "      dtype='object')"
      ]
     },
     "execution_count": 12,
     "metadata": {},
     "output_type": "execute_result"
    }
   ],
   "source": [
    "final_train.columns"
   ]
  },
  {
   "cell_type": "code",
   "execution_count": 13,
   "metadata": {
    "execution": {
     "iopub.execute_input": "2020-10-12T05:50:46.029846Z",
     "iopub.status.busy": "2020-10-12T05:50:46.028945Z",
     "iopub.status.idle": "2020-10-12T05:51:21.761625Z",
     "shell.execute_reply": "2020-10-12T05:51:21.762400Z"
    },
    "papermill": {
     "duration": 35.765493,
     "end_time": "2020-10-12T05:51:21.762582",
     "exception": false,
     "start_time": "2020-10-12T05:50:45.997089",
     "status": "completed"
    },
    "tags": []
   },
   "outputs": [
    {
     "name": "stdout",
     "output_type": "stream",
     "text": [
      "cross validation scores: [0.9860316  0.98717361 0.97915712 0.97388914 0.96816308 0.98511223\n",
      " 0.98625744 0.98167659 0.96197893 0.98694457] \n",
      " mean of cross validation scores: 0.9796384326248134\n"
     ]
    }
   ],
   "source": [
    "# Training coupon redemption based on customer demographics dataset\n",
    "# includes categorical data\n",
    "\n",
    "from sklearn.ensemble import RandomForestClassifier\n",
    "from sklearn.model_selection import train_test_split\n",
    "from sklearn.metrics import precision_score\n",
    "from sklearn.model_selection import cross_val_score\n",
    "\n",
    "X=final_train[['id', 'campaign_id', 'coupon_id', 'customer_id', 'rented',\n",
    "       'income_bracket', 'age_range_18-25', 'age_range_26-35',\n",
    "       'age_range_36-45', 'age_range_46-55', 'age_range_56-70',\n",
    "       'age_range_70+', 'marital_status_Married', 'marital_status_Single',\n",
    "       'marital_status_Unknown', 'family_size_1', 'family_size_2',\n",
    "       'family_size_3', 'family_size_4', 'family_size_5+', 'no_of_children_0',\n",
    "       'no_of_children_1', 'no_of_children_2', 'no_of_children_3+']]\n",
    "\n",
    "y=train_dem_df['redemption_status']\n",
    "\n",
    "model=RandomForestClassifier(n_estimators=80).fit(X,y)\n",
    "cv_scores=cross_val_score(model,X,y,cv=10)\n",
    "\n",
    "print('cross validation scores:',cv_scores,'\\n','mean of cross validation scores:',np.mean(cv_scores))"
   ]
  },
  {
   "cell_type": "code",
   "execution_count": 14,
   "metadata": {
    "execution": {
     "iopub.execute_input": "2020-10-12T05:51:21.825021Z",
     "iopub.status.busy": "2020-10-12T05:51:21.824190Z",
     "iopub.status.idle": "2020-10-12T05:51:22.124913Z",
     "shell.execute_reply": "2020-10-12T05:51:22.123966Z"
    },
    "papermill": {
     "duration": 0.337835,
     "end_time": "2020-10-12T05:51:22.125060",
     "exception": false,
     "start_time": "2020-10-12T05:51:21.787225",
     "status": "completed"
    },
    "tags": []
   },
   "outputs": [
    {
     "data": {
      "text/plain": [
       "Text(0.5, 1.0, 'Cross Validation Scores')"
      ]
     },
     "execution_count": 14,
     "metadata": {},
     "output_type": "execute_result"
    },
    {
     "data": {
      "image/png": "[encoded data removed]",
      "text/plain": [
       "<Figure size 432x288 with 1 Axes>"
      ]
     },
     "metadata": {
      "needs_background": "light"
     },
     "output_type": "display_data"
    }
   ],
   "source": [
    "import matplotlib.pyplot as plt\n",
    "sns.lineplot(np.arange(len(cv_scores)),cv_scores)\n",
    "plt.gca().set_title('Cross Validation Scores')"
   ]
  },
  {
   "cell_type": "code",
   "execution_count": 15,
   "metadata": {
    "execution": {
     "iopub.execute_input": "2020-10-12T05:51:22.186876Z",
     "iopub.status.busy": "2020-10-12T05:51:22.185945Z",
     "iopub.status.idle": "2020-10-12T05:51:22.495221Z",
     "shell.execute_reply": "2020-10-12T05:51:22.494406Z"
    },
    "papermill": {
     "duration": 0.34404,
     "end_time": "2020-10-12T05:51:22.495398",
     "exception": false,
     "start_time": "2020-10-12T05:51:22.151358",
     "status": "completed"
    },
    "tags": []
   },
   "outputs": [],
   "source": [
    "predictions=model.predict(final_test)"
   ]
  },
  {
   "cell_type": "code",
   "execution_count": 16,
   "metadata": {
    "execution": {
     "iopub.execute_input": "2020-10-12T05:51:22.569897Z",
     "iopub.status.busy": "2020-10-12T05:51:22.564720Z",
     "iopub.status.idle": "2020-10-12T05:51:22.607560Z",
     "shell.execute_reply": "2020-10-12T05:51:22.606774Z"
    },
    "papermill": {
     "duration": 0.083072,
     "end_time": "2020-10-12T05:51:22.607710",
     "exception": false,
     "start_time": "2020-10-12T05:51:22.524638",
     "status": "completed"
    },
    "tags": []
   },
   "outputs": [
    {
     "data": {
      "text/plain": [
       "(29, 30910)"
      ]
     },
     "execution_count": 16,
     "metadata": {},
     "output_type": "execute_result"
    }
   ],
   "source": [
    "sum([1 for i in predictions if i==1]), sum([1 for i in predictions if i==0])"
   ]
  },
  {
   "cell_type": "code",
   "execution_count": 17,
   "metadata": {
    "execution": {
     "iopub.execute_input": "2020-10-12T05:51:22.681527Z",
     "iopub.status.busy": "2020-10-12T05:51:22.674961Z",
     "iopub.status.idle": "2020-10-12T05:51:23.131766Z",
     "shell.execute_reply": "2020-10-12T05:51:23.130945Z"
    },
    "papermill": {
     "duration": 0.497243,
     "end_time": "2020-10-12T05:51:23.131929",
     "exception": false,
     "start_time": "2020-10-12T05:51:22.634686",
     "status": "completed"
    },
    "tags": []
   },
   "outputs": [
    {
     "data": {
      "text/plain": [
       "Text(0.5, 1.0, 'Coupons Redeemed v/s Coupons not Redeemed: \\n(0 - Coupon not redeemed, 1 - Coupon redeemed)')"
      ]
     },
     "execution_count": 17,
     "metadata": {},
     "output_type": "execute_result"
    },
    {
     "data": {
      "image/png": "[encoded data removed]",
      "text/plain": [
       "<Figure size 720x360 with 1 Axes>"
      ]
     },
     "metadata": {},
     "output_type": "display_data"
    }
   ],
   "source": [
    "import matplotlib.pyplot as plt\n",
    "sns.set_style(\"whitegrid\")\n",
    "sns.set_palette(\"husl\")\n",
    "plt.figure(figsize=(10,5))\n",
    "sns.scatterplot(np.arange(len(predictions)),predictions,alpha=0.5)\n",
    "\n",
    "plt.gca().set_title('Coupons Redeemed v/s Coupons not Redeemed: \\n(0 - Coupon not redeemed, 1 - Coupon redeemed)')\n"
   ]
  },
  {
   "cell_type": "code",
   "execution_count": null,
   "metadata": {
    "papermill": {
     "duration": 0.026622,
     "end_time": "2020-10-12T05:51:23.186461",
     "exception": false,
     "start_time": "2020-10-12T05:51:23.159839",
     "status": "completed"
    },
    "tags": []
   },
   "outputs": [],
   "source": []
  }
 ],
 "metadata": {
  "kernelspec": {
   "display_name": "Python 3",
   "language": "python",
   "name": "python3"
  },
  "language_info": {
   "codemirror_mode": {
    "name": "ipython",
    "version": 3
   },
   "file_extension": ".py",
   "mimetype": "text/x-python",
   "name": "python",
   "nbconvert_exporter": "python",
   "pygments_lexer": "ipython3",
   "version": "3.7.6"
  },
  "papermill": {
   "duration": 44.440326,
   "end_time": "2020-10-12T05:51:23.322205",
   "environment_variables": {},
   "exception": null,
   "input_path": "__notebook__.ipynb",
   "output_path": "__notebook__.ipynb",
   "parameters": {},
   "start_time": "2020-10-12T05:50:38.881879",
   "version": "2.1.0"
  }
 },
 "nbformat": 4,
 "nbformat_minor": 4
}

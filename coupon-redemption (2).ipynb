{
 "cells": [
  {
   "cell_type": "code",
   "execution_count": 1,
   "metadata": {
    "_cell_guid": "b1076dfc-b9ad-4769-8c92-a6c4dae69d19",
    "_uuid": "8f2839f25d086af736a60e9eeb907d3b93b6e0e5",
    "execution": {
     "iopub.execute_input": "2020-10-12T17:07:41.726344Z",
     "iopub.status.busy": "2020-10-12T17:07:41.725444Z",
     "iopub.status.idle": "2020-10-12T17:07:41.734222Z",
     "shell.execute_reply": "2020-10-12T17:07:41.734936Z"
    },
    "papermill": {
     "duration": 0.034025,
     "end_time": "2020-10-12T17:07:41.735173",
     "exception": false,
     "start_time": "2020-10-12T17:07:41.701148",
     "status": "completed"
    },
    "tags": []
   },
   "outputs": [
    {
     "name": "stdout",
     "output_type": "stream",
     "text": [
      "/kaggle/input/predicting-coupon-redemption/test.csv\n",
      "/kaggle/input/predicting-coupon-redemption/Datasets columns explanation_.docx\n",
      "/kaggle/input/predicting-coupon-redemption/train/coupon_item_mapping.csv\n",
      "/kaggle/input/predicting-coupon-redemption/train/train.csv\n",
      "/kaggle/input/predicting-coupon-redemption/train/customer_transaction_data.csv\n",
      "/kaggle/input/predicting-coupon-redemption/train/customer_demographics.csv\n",
      "/kaggle/input/predicting-coupon-redemption/train/item_data.csv\n",
      "/kaggle/input/predicting-coupon-redemption/train/campaign_data.csv\n"
     ]
    }
   ],
   "source": [
    "# This Python 3 environment comes with many helpful analytics libraries installed\n",
    "# It is defined by the kaggle/python Docker image: https://github.com/kaggle/docker-python\n",
    "# For example, here's several helpful packages to load\n",
    "\n",
    "import numpy as np # linear algebra\n",
    "import pandas as pd # data processing, CSV file I/O (e.g. pd.read_csv)\n",
    "\n",
    "# Input data files are available in the read-only \"../input/\" directory\n",
    "# For example, running this (by clicking run or pressing Shift+Enter) will list all files under the input directory\n",
    "\n",
    "import os\n",
    "for dirname, _, filenames in os.walk('/kaggle/input'):\n",
    "    for filename in filenames:\n",
    "        print(os.path.join(dirname, filename))\n",
    "\n",
    "# You can write up to 5GB to the current directory (/kaggle/working/) that gets preserved as output when you create a version using \"Save & Run All\" \n",
    "# You can also write temporary files to /kaggle/temp/, but they won't be saved outside of the current session"
   ]
  },
  {
   "cell_type": "code",
   "execution_count": 2,
   "metadata": {
    "execution": {
     "iopub.execute_input": "2020-10-12T17:07:41.774650Z",
     "iopub.status.busy": "2020-10-12T17:07:41.773842Z",
     "iopub.status.idle": "2020-10-12T17:07:42.852582Z",
     "shell.execute_reply": "2020-10-12T17:07:42.851774Z"
    },
    "papermill": {
     "duration": 1.100436,
     "end_time": "2020-10-12T17:07:42.852712",
     "exception": false,
     "start_time": "2020-10-12T17:07:41.752276",
     "status": "completed"
    },
    "tags": []
   },
   "outputs": [],
   "source": [
    "import seaborn as sns"
   ]
  },
  {
   "cell_type": "code",
   "execution_count": 3,
   "metadata": {
    "_cell_guid": "79c7e3d0-c299-4dcb-8224-4455121ee9b0",
    "_uuid": "d629ff2d2480ee46fbb7e2d37f6b5fab8052498a",
    "execution": {
     "iopub.execute_input": "2020-10-12T17:07:42.894519Z",
     "iopub.status.busy": "2020-10-12T17:07:42.893770Z",
     "iopub.status.idle": "2020-10-12T17:07:42.983855Z",
     "shell.execute_reply": "2020-10-12T17:07:42.983069Z"
    },
    "papermill": {
     "duration": 0.114767,
     "end_time": "2020-10-12T17:07:42.983990",
     "exception": false,
     "start_time": "2020-10-12T17:07:42.869223",
     "status": "completed"
    },
    "tags": []
   },
   "outputs": [
    {
     "data": {
      "text/html": [
       "<div>\n",
       "<style scoped>\n",
       "    .dataframe tbody tr th:only-of-type {\n",
       "        vertical-align: middle;\n",
       "    }\n",
       "\n",
       "    .dataframe tbody tr th {\n",
       "        vertical-align: top;\n",
       "    }\n",
       "\n",
       "    .dataframe thead th {\n",
       "        text-align: right;\n",
       "    }\n",
       "</style>\n",
       "<table border=\"1\" class=\"dataframe\">\n",
       "  <thead>\n",
       "    <tr style=\"text-align: right;\">\n",
       "      <th></th>\n",
       "      <th>id</th>\n",
       "      <th>campaign_id</th>\n",
       "      <th>coupon_id</th>\n",
       "      <th>customer_id</th>\n",
       "      <th>redemption_status</th>\n",
       "    </tr>\n",
       "  </thead>\n",
       "  <tbody>\n",
       "    <tr>\n",
       "      <th>0</th>\n",
       "      <td>1</td>\n",
       "      <td>13</td>\n",
       "      <td>27</td>\n",
       "      <td>1053</td>\n",
       "      <td>0</td>\n",
       "    </tr>\n",
       "    <tr>\n",
       "      <th>1</th>\n",
       "      <td>2</td>\n",
       "      <td>13</td>\n",
       "      <td>116</td>\n",
       "      <td>48</td>\n",
       "      <td>0</td>\n",
       "    </tr>\n",
       "    <tr>\n",
       "      <th>2</th>\n",
       "      <td>6</td>\n",
       "      <td>9</td>\n",
       "      <td>635</td>\n",
       "      <td>205</td>\n",
       "      <td>0</td>\n",
       "    </tr>\n",
       "    <tr>\n",
       "      <th>3</th>\n",
       "      <td>7</td>\n",
       "      <td>13</td>\n",
       "      <td>644</td>\n",
       "      <td>1050</td>\n",
       "      <td>0</td>\n",
       "    </tr>\n",
       "    <tr>\n",
       "      <th>4</th>\n",
       "      <td>9</td>\n",
       "      <td>8</td>\n",
       "      <td>1017</td>\n",
       "      <td>1489</td>\n",
       "      <td>0</td>\n",
       "    </tr>\n",
       "    <tr>\n",
       "      <th>...</th>\n",
       "      <td>...</td>\n",
       "      <td>...</td>\n",
       "      <td>...</td>\n",
       "      <td>...</td>\n",
       "      <td>...</td>\n",
       "    </tr>\n",
       "    <tr>\n",
       "      <th>78364</th>\n",
       "      <td>128587</td>\n",
       "      <td>8</td>\n",
       "      <td>71</td>\n",
       "      <td>1523</td>\n",
       "      <td>0</td>\n",
       "    </tr>\n",
       "    <tr>\n",
       "      <th>78365</th>\n",
       "      <td>128589</td>\n",
       "      <td>30</td>\n",
       "      <td>547</td>\n",
       "      <td>937</td>\n",
       "      <td>0</td>\n",
       "    </tr>\n",
       "    <tr>\n",
       "      <th>78366</th>\n",
       "      <td>128590</td>\n",
       "      <td>8</td>\n",
       "      <td>754</td>\n",
       "      <td>1004</td>\n",
       "      <td>0</td>\n",
       "    </tr>\n",
       "    <tr>\n",
       "      <th>78367</th>\n",
       "      <td>128592</td>\n",
       "      <td>13</td>\n",
       "      <td>134</td>\n",
       "      <td>71</td>\n",
       "      <td>0</td>\n",
       "    </tr>\n",
       "    <tr>\n",
       "      <th>78368</th>\n",
       "      <td>128595</td>\n",
       "      <td>13</td>\n",
       "      <td>681</td>\n",
       "      <td>623</td>\n",
       "      <td>0</td>\n",
       "    </tr>\n",
       "  </tbody>\n",
       "</table>\n",
       "<p>78369 rows × 5 columns</p>\n",
       "</div>"
      ],
      "text/plain": [
       "           id  campaign_id  coupon_id  customer_id  redemption_status\n",
       "0           1           13         27         1053                  0\n",
       "1           2           13        116           48                  0\n",
       "2           6            9        635          205                  0\n",
       "3           7           13        644         1050                  0\n",
       "4           9            8       1017         1489                  0\n",
       "...       ...          ...        ...          ...                ...\n",
       "78364  128587            8         71         1523                  0\n",
       "78365  128589           30        547          937                  0\n",
       "78366  128590            8        754         1004                  0\n",
       "78367  128592           13        134           71                  0\n",
       "78368  128595           13        681          623                  0\n",
       "\n",
       "[78369 rows x 5 columns]"
      ]
     },
     "execution_count": 3,
     "metadata": {},
     "output_type": "execute_result"
    }
   ],
   "source": [
    "# Viewing training dataset\n",
    "train_df=pd.read_csv('/kaggle/input/predicting-coupon-redemption/train/train.csv')\n",
    "train_df"
   ]
  },
  {
   "cell_type": "code",
   "execution_count": 4,
   "metadata": {
    "execution": {
     "iopub.execute_input": "2020-10-12T17:07:43.029233Z",
     "iopub.status.busy": "2020-10-12T17:07:43.028197Z",
     "iopub.status.idle": "2020-10-12T17:07:43.048900Z",
     "shell.execute_reply": "2020-10-12T17:07:43.049532Z"
    },
    "papermill": {
     "duration": 0.047713,
     "end_time": "2020-10-12T17:07:43.049719",
     "exception": false,
     "start_time": "2020-10-12T17:07:43.002006",
     "status": "completed"
    },
    "tags": []
   },
   "outputs": [
    {
     "name": "stdout",
     "output_type": "stream",
     "text": [
      "<class 'pandas.core.frame.DataFrame'>\n",
      "RangeIndex: 78369 entries, 0 to 78368\n",
      "Data columns (total 5 columns):\n",
      " #   Column             Non-Null Count  Dtype\n",
      "---  ------             --------------  -----\n",
      " 0   id                 78369 non-null  int64\n",
      " 1   campaign_id        78369 non-null  int64\n",
      " 2   coupon_id          78369 non-null  int64\n",
      " 3   customer_id        78369 non-null  int64\n",
      " 4   redemption_status  78369 non-null  int64\n",
      "dtypes: int64(5)\n",
      "memory usage: 3.0 MB\n"
     ]
    }
   ],
   "source": [
    "#checking for null values in training dataset\n",
    "train_df.info()"
   ]
  },
  {
   "cell_type": "code",
   "execution_count": 5,
   "metadata": {
    "execution": {
     "iopub.execute_input": "2020-10-12T17:07:43.095237Z",
     "iopub.status.busy": "2020-10-12T17:07:43.094139Z",
     "iopub.status.idle": "2020-10-12T17:07:43.139020Z",
     "shell.execute_reply": "2020-10-12T17:07:43.138118Z"
    },
    "papermill": {
     "duration": 0.070328,
     "end_time": "2020-10-12T17:07:43.139176",
     "exception": false,
     "start_time": "2020-10-12T17:07:43.068848",
     "status": "completed"
    },
    "tags": []
   },
   "outputs": [
    {
     "data": {
      "text/html": [
       "<div>\n",
       "<style scoped>\n",
       "    .dataframe tbody tr th:only-of-type {\n",
       "        vertical-align: middle;\n",
       "    }\n",
       "\n",
       "    .dataframe tbody tr th {\n",
       "        vertical-align: top;\n",
       "    }\n",
       "\n",
       "    .dataframe thead th {\n",
       "        text-align: right;\n",
       "    }\n",
       "</style>\n",
       "<table border=\"1\" class=\"dataframe\">\n",
       "  <thead>\n",
       "    <tr style=\"text-align: right;\">\n",
       "      <th></th>\n",
       "      <th>id</th>\n",
       "      <th>campaign_id</th>\n",
       "      <th>coupon_id</th>\n",
       "      <th>customer_id</th>\n",
       "    </tr>\n",
       "  </thead>\n",
       "  <tbody>\n",
       "    <tr>\n",
       "      <th>0</th>\n",
       "      <td>3</td>\n",
       "      <td>22</td>\n",
       "      <td>869</td>\n",
       "      <td>967</td>\n",
       "    </tr>\n",
       "    <tr>\n",
       "      <th>1</th>\n",
       "      <td>4</td>\n",
       "      <td>20</td>\n",
       "      <td>389</td>\n",
       "      <td>1566</td>\n",
       "    </tr>\n",
       "    <tr>\n",
       "      <th>2</th>\n",
       "      <td>5</td>\n",
       "      <td>22</td>\n",
       "      <td>981</td>\n",
       "      <td>510</td>\n",
       "    </tr>\n",
       "    <tr>\n",
       "      <th>3</th>\n",
       "      <td>8</td>\n",
       "      <td>25</td>\n",
       "      <td>1069</td>\n",
       "      <td>361</td>\n",
       "    </tr>\n",
       "    <tr>\n",
       "      <th>4</th>\n",
       "      <td>10</td>\n",
       "      <td>17</td>\n",
       "      <td>498</td>\n",
       "      <td>811</td>\n",
       "    </tr>\n",
       "    <tr>\n",
       "      <th>...</th>\n",
       "      <td>...</td>\n",
       "      <td>...</td>\n",
       "      <td>...</td>\n",
       "      <td>...</td>\n",
       "    </tr>\n",
       "    <tr>\n",
       "      <th>50221</th>\n",
       "      <td>128584</td>\n",
       "      <td>20</td>\n",
       "      <td>843</td>\n",
       "      <td>501</td>\n",
       "    </tr>\n",
       "    <tr>\n",
       "      <th>50222</th>\n",
       "      <td>128588</td>\n",
       "      <td>25</td>\n",
       "      <td>415</td>\n",
       "      <td>481</td>\n",
       "    </tr>\n",
       "    <tr>\n",
       "      <th>50223</th>\n",
       "      <td>128591</td>\n",
       "      <td>25</td>\n",
       "      <td>596</td>\n",
       "      <td>1336</td>\n",
       "    </tr>\n",
       "    <tr>\n",
       "      <th>50224</th>\n",
       "      <td>128593</td>\n",
       "      <td>22</td>\n",
       "      <td>518</td>\n",
       "      <td>748</td>\n",
       "    </tr>\n",
       "    <tr>\n",
       "      <th>50225</th>\n",
       "      <td>128594</td>\n",
       "      <td>18</td>\n",
       "      <td>988</td>\n",
       "      <td>851</td>\n",
       "    </tr>\n",
       "  </tbody>\n",
       "</table>\n",
       "<p>50226 rows × 4 columns</p>\n",
       "</div>"
      ],
      "text/plain": [
       "           id  campaign_id  coupon_id  customer_id\n",
       "0           3           22        869          967\n",
       "1           4           20        389         1566\n",
       "2           5           22        981          510\n",
       "3           8           25       1069          361\n",
       "4          10           17        498          811\n",
       "...       ...          ...        ...          ...\n",
       "50221  128584           20        843          501\n",
       "50222  128588           25        415          481\n",
       "50223  128591           25        596         1336\n",
       "50224  128593           22        518          748\n",
       "50225  128594           18        988          851\n",
       "\n",
       "[50226 rows x 4 columns]"
      ]
     },
     "execution_count": 5,
     "metadata": {},
     "output_type": "execute_result"
    }
   ],
   "source": [
    "# Viewing test dataset\n",
    "test_df=pd.read_csv('/kaggle/input/predicting-coupon-redemption/test.csv')\n",
    "test_df"
   ]
  },
  {
   "cell_type": "code",
   "execution_count": 6,
   "metadata": {
    "execution": {
     "iopub.execute_input": "2020-10-12T17:07:43.188931Z",
     "iopub.status.busy": "2020-10-12T17:07:43.187799Z",
     "iopub.status.idle": "2020-10-12T17:07:43.198913Z",
     "shell.execute_reply": "2020-10-12T17:07:43.198153Z"
    },
    "papermill": {
     "duration": 0.038755,
     "end_time": "2020-10-12T17:07:43.199037",
     "exception": false,
     "start_time": "2020-10-12T17:07:43.160282",
     "status": "completed"
    },
    "tags": []
   },
   "outputs": [
    {
     "name": "stdout",
     "output_type": "stream",
     "text": [
      "<class 'pandas.core.frame.DataFrame'>\n",
      "RangeIndex: 50226 entries, 0 to 50225\n",
      "Data columns (total 4 columns):\n",
      " #   Column       Non-Null Count  Dtype\n",
      "---  ------       --------------  -----\n",
      " 0   id           50226 non-null  int64\n",
      " 1   campaign_id  50226 non-null  int64\n",
      " 2   coupon_id    50226 non-null  int64\n",
      " 3   customer_id  50226 non-null  int64\n",
      "dtypes: int64(4)\n",
      "memory usage: 1.5 MB\n"
     ]
    }
   ],
   "source": [
    "# checking for null values in test dataset\n",
    "test_df.info()"
   ]
  },
  {
   "cell_type": "code",
   "execution_count": 7,
   "metadata": {
    "execution": {
     "iopub.execute_input": "2020-10-12T17:07:43.247497Z",
     "iopub.status.busy": "2020-10-12T17:07:43.246664Z",
     "iopub.status.idle": "2020-10-12T17:07:44.500406Z",
     "shell.execute_reply": "2020-10-12T17:07:44.499770Z"
    },
    "papermill": {
     "duration": 1.282146,
     "end_time": "2020-10-12T17:07:44.500532",
     "exception": false,
     "start_time": "2020-10-12T17:07:43.218386",
     "status": "completed"
    },
    "tags": []
   },
   "outputs": [
    {
     "data": {
      "text/html": [
       "<div>\n",
       "<style scoped>\n",
       "    .dataframe tbody tr th:only-of-type {\n",
       "        vertical-align: middle;\n",
       "    }\n",
       "\n",
       "    .dataframe tbody tr th {\n",
       "        vertical-align: top;\n",
       "    }\n",
       "\n",
       "    .dataframe thead th {\n",
       "        text-align: right;\n",
       "    }\n",
       "</style>\n",
       "<table border=\"1\" class=\"dataframe\">\n",
       "  <thead>\n",
       "    <tr style=\"text-align: right;\">\n",
       "      <th></th>\n",
       "      <th>date</th>\n",
       "      <th>customer_id</th>\n",
       "      <th>item_id</th>\n",
       "      <th>quantity</th>\n",
       "      <th>selling_price</th>\n",
       "      <th>other_discount</th>\n",
       "      <th>coupon_discount</th>\n",
       "    </tr>\n",
       "  </thead>\n",
       "  <tbody>\n",
       "    <tr>\n",
       "      <th>0</th>\n",
       "      <td>2012-01-02</td>\n",
       "      <td>1501</td>\n",
       "      <td>26830</td>\n",
       "      <td>1</td>\n",
       "      <td>35.26</td>\n",
       "      <td>-10.69</td>\n",
       "      <td>0.0</td>\n",
       "    </tr>\n",
       "    <tr>\n",
       "      <th>1</th>\n",
       "      <td>2012-01-02</td>\n",
       "      <td>1501</td>\n",
       "      <td>54253</td>\n",
       "      <td>1</td>\n",
       "      <td>53.43</td>\n",
       "      <td>-13.89</td>\n",
       "      <td>0.0</td>\n",
       "    </tr>\n",
       "    <tr>\n",
       "      <th>2</th>\n",
       "      <td>2012-01-02</td>\n",
       "      <td>1501</td>\n",
       "      <td>31962</td>\n",
       "      <td>1</td>\n",
       "      <td>106.50</td>\n",
       "      <td>-14.25</td>\n",
       "      <td>0.0</td>\n",
       "    </tr>\n",
       "    <tr>\n",
       "      <th>3</th>\n",
       "      <td>2012-01-02</td>\n",
       "      <td>1501</td>\n",
       "      <td>33647</td>\n",
       "      <td>1</td>\n",
       "      <td>67.32</td>\n",
       "      <td>0.00</td>\n",
       "      <td>0.0</td>\n",
       "    </tr>\n",
       "    <tr>\n",
       "      <th>4</th>\n",
       "      <td>2012-01-02</td>\n",
       "      <td>1501</td>\n",
       "      <td>48199</td>\n",
       "      <td>1</td>\n",
       "      <td>71.24</td>\n",
       "      <td>-28.14</td>\n",
       "      <td>0.0</td>\n",
       "    </tr>\n",
       "    <tr>\n",
       "      <th>...</th>\n",
       "      <td>...</td>\n",
       "      <td>...</td>\n",
       "      <td>...</td>\n",
       "      <td>...</td>\n",
       "      <td>...</td>\n",
       "      <td>...</td>\n",
       "      <td>...</td>\n",
       "    </tr>\n",
       "    <tr>\n",
       "      <th>1324561</th>\n",
       "      <td>2013-06-30</td>\n",
       "      <td>1129</td>\n",
       "      <td>2777</td>\n",
       "      <td>1</td>\n",
       "      <td>284.60</td>\n",
       "      <td>-71.24</td>\n",
       "      <td>0.0</td>\n",
       "    </tr>\n",
       "    <tr>\n",
       "      <th>1324562</th>\n",
       "      <td>2013-06-30</td>\n",
       "      <td>1129</td>\n",
       "      <td>2953</td>\n",
       "      <td>4</td>\n",
       "      <td>42.74</td>\n",
       "      <td>-28.50</td>\n",
       "      <td>0.0</td>\n",
       "    </tr>\n",
       "    <tr>\n",
       "      <th>1324563</th>\n",
       "      <td>2013-06-30</td>\n",
       "      <td>1129</td>\n",
       "      <td>2971</td>\n",
       "      <td>6</td>\n",
       "      <td>64.12</td>\n",
       "      <td>-42.74</td>\n",
       "      <td>0.0</td>\n",
       "    </tr>\n",
       "    <tr>\n",
       "      <th>1324564</th>\n",
       "      <td>2013-06-30</td>\n",
       "      <td>1129</td>\n",
       "      <td>46984</td>\n",
       "      <td>1</td>\n",
       "      <td>95.82</td>\n",
       "      <td>0.00</td>\n",
       "      <td>0.0</td>\n",
       "    </tr>\n",
       "    <tr>\n",
       "      <th>1324565</th>\n",
       "      <td>2013-06-30</td>\n",
       "      <td>1129</td>\n",
       "      <td>64498</td>\n",
       "      <td>2</td>\n",
       "      <td>489.78</td>\n",
       "      <td>0.00</td>\n",
       "      <td>0.0</td>\n",
       "    </tr>\n",
       "  </tbody>\n",
       "</table>\n",
       "<p>1324566 rows × 7 columns</p>\n",
       "</div>"
      ],
      "text/plain": [
       "               date  customer_id  item_id  quantity  selling_price  \\\n",
       "0        2012-01-02         1501    26830         1          35.26   \n",
       "1        2012-01-02         1501    54253         1          53.43   \n",
       "2        2012-01-02         1501    31962         1         106.50   \n",
       "3        2012-01-02         1501    33647         1          67.32   \n",
       "4        2012-01-02         1501    48199         1          71.24   \n",
       "...             ...          ...      ...       ...            ...   \n",
       "1324561  2013-06-30         1129     2777         1         284.60   \n",
       "1324562  2013-06-30         1129     2953         4          42.74   \n",
       "1324563  2013-06-30         1129     2971         6          64.12   \n",
       "1324564  2013-06-30         1129    46984         1          95.82   \n",
       "1324565  2013-06-30         1129    64498         2         489.78   \n",
       "\n",
       "         other_discount  coupon_discount  \n",
       "0                -10.69              0.0  \n",
       "1                -13.89              0.0  \n",
       "2                -14.25              0.0  \n",
       "3                  0.00              0.0  \n",
       "4                -28.14              0.0  \n",
       "...                 ...              ...  \n",
       "1324561          -71.24              0.0  \n",
       "1324562          -28.50              0.0  \n",
       "1324563          -42.74              0.0  \n",
       "1324564            0.00              0.0  \n",
       "1324565            0.00              0.0  \n",
       "\n",
       "[1324566 rows x 7 columns]"
      ]
     },
     "execution_count": 7,
     "metadata": {},
     "output_type": "execute_result"
    }
   ],
   "source": [
    "#Customer transaction dataset\n",
    "cus_tsc_df=pd.read_csv('/kaggle/input/predicting-coupon-redemption/train/customer_transaction_data.csv')\n",
    "cus_tsc_df"
   ]
  },
  {
   "cell_type": "code",
   "execution_count": 8,
   "metadata": {
    "execution": {
     "iopub.execute_input": "2020-10-12T17:07:44.546479Z",
     "iopub.status.busy": "2020-10-12T17:07:44.545724Z",
     "iopub.status.idle": "2020-10-12T17:07:44.738964Z",
     "shell.execute_reply": "2020-10-12T17:07:44.738300Z"
    },
    "papermill": {
     "duration": 0.218397,
     "end_time": "2020-10-12T17:07:44.739098",
     "exception": false,
     "start_time": "2020-10-12T17:07:44.520701",
     "status": "completed"
    },
    "tags": []
   },
   "outputs": [
    {
     "name": "stdout",
     "output_type": "stream",
     "text": [
      "<class 'pandas.core.frame.DataFrame'>\n",
      "RangeIndex: 1324566 entries, 0 to 1324565\n",
      "Data columns (total 7 columns):\n",
      " #   Column           Non-Null Count    Dtype  \n",
      "---  ------           --------------    -----  \n",
      " 0   date             1324566 non-null  object \n",
      " 1   customer_id      1324566 non-null  int64  \n",
      " 2   item_id          1324566 non-null  int64  \n",
      " 3   quantity         1324566 non-null  int64  \n",
      " 4   selling_price    1324566 non-null  float64\n",
      " 5   other_discount   1324566 non-null  float64\n",
      " 6   coupon_discount  1324566 non-null  float64\n",
      "dtypes: float64(3), int64(3), object(1)\n",
      "memory usage: 70.7+ MB\n"
     ]
    }
   ],
   "source": [
    "# checking for null values in customer demographics dataset\n",
    "cus_tsc_df.info()"
   ]
  },
  {
   "cell_type": "code",
   "execution_count": 9,
   "metadata": {
    "execution": {
     "iopub.execute_input": "2020-10-12T17:07:44.786491Z",
     "iopub.status.busy": "2020-10-12T17:07:44.785712Z",
     "iopub.status.idle": "2020-10-12T17:07:44.887491Z",
     "shell.execute_reply": "2020-10-12T17:07:44.886873Z"
    },
    "papermill": {
     "duration": 0.127823,
     "end_time": "2020-10-12T17:07:44.887644",
     "exception": false,
     "start_time": "2020-10-12T17:07:44.759821",
     "status": "completed"
    },
    "tags": []
   },
   "outputs": [
    {
     "data": {
      "text/html": [
       "<div>\n",
       "<style scoped>\n",
       "    .dataframe tbody tr th:only-of-type {\n",
       "        vertical-align: middle;\n",
       "    }\n",
       "\n",
       "    .dataframe tbody tr th {\n",
       "        vertical-align: top;\n",
       "    }\n",
       "\n",
       "    .dataframe thead th {\n",
       "        text-align: right;\n",
       "    }\n",
       "</style>\n",
       "<table border=\"1\" class=\"dataframe\">\n",
       "  <thead>\n",
       "    <tr style=\"text-align: right;\">\n",
       "      <th></th>\n",
       "      <th>date</th>\n",
       "      <th>customer_id</th>\n",
       "      <th>item_id</th>\n",
       "      <th>quantity</th>\n",
       "      <th>selling_price</th>\n",
       "      <th>other_discount</th>\n",
       "      <th>coupon_discount</th>\n",
       "    </tr>\n",
       "  </thead>\n",
       "  <tbody>\n",
       "    <tr>\n",
       "      <th>991011</th>\n",
       "      <td>2013-03-01</td>\n",
       "      <td>1492</td>\n",
       "      <td>42140</td>\n",
       "      <td>1</td>\n",
       "      <td>101.16</td>\n",
       "      <td>0.00</td>\n",
       "      <td>0.0</td>\n",
       "    </tr>\n",
       "    <tr>\n",
       "      <th>68134</th>\n",
       "      <td>2012-03-22</td>\n",
       "      <td>1132</td>\n",
       "      <td>6871</td>\n",
       "      <td>1</td>\n",
       "      <td>95.82</td>\n",
       "      <td>-10.69</td>\n",
       "      <td>0.0</td>\n",
       "    </tr>\n",
       "    <tr>\n",
       "      <th>570911</th>\n",
       "      <td>2012-10-03</td>\n",
       "      <td>369</td>\n",
       "      <td>17880</td>\n",
       "      <td>1</td>\n",
       "      <td>89.05</td>\n",
       "      <td>-17.45</td>\n",
       "      <td>0.0</td>\n",
       "    </tr>\n",
       "    <tr>\n",
       "      <th>1046733</th>\n",
       "      <td>2013-03-22</td>\n",
       "      <td>829</td>\n",
       "      <td>22559</td>\n",
       "      <td>1</td>\n",
       "      <td>66.97</td>\n",
       "      <td>-21.73</td>\n",
       "      <td>0.0</td>\n",
       "    </tr>\n",
       "    <tr>\n",
       "      <th>784877</th>\n",
       "      <td>2012-12-17</td>\n",
       "      <td>231</td>\n",
       "      <td>35039</td>\n",
       "      <td>2</td>\n",
       "      <td>17.81</td>\n",
       "      <td>0.00</td>\n",
       "      <td>0.0</td>\n",
       "    </tr>\n",
       "    <tr>\n",
       "      <th>...</th>\n",
       "      <td>...</td>\n",
       "      <td>...</td>\n",
       "      <td>...</td>\n",
       "      <td>...</td>\n",
       "      <td>...</td>\n",
       "      <td>...</td>\n",
       "      <td>...</td>\n",
       "    </tr>\n",
       "    <tr>\n",
       "      <th>538435</th>\n",
       "      <td>2012-09-22</td>\n",
       "      <td>1555</td>\n",
       "      <td>22591</td>\n",
       "      <td>1</td>\n",
       "      <td>89.05</td>\n",
       "      <td>-17.45</td>\n",
       "      <td>0.0</td>\n",
       "    </tr>\n",
       "    <tr>\n",
       "      <th>1020134</th>\n",
       "      <td>2013-03-13</td>\n",
       "      <td>948</td>\n",
       "      <td>28880</td>\n",
       "      <td>2</td>\n",
       "      <td>17.81</td>\n",
       "      <td>0.00</td>\n",
       "      <td>0.0</td>\n",
       "    </tr>\n",
       "    <tr>\n",
       "      <th>1134911</th>\n",
       "      <td>2013-04-24</td>\n",
       "      <td>957</td>\n",
       "      <td>12013</td>\n",
       "      <td>2</td>\n",
       "      <td>227.26</td>\n",
       "      <td>0.00</td>\n",
       "      <td>0.0</td>\n",
       "    </tr>\n",
       "    <tr>\n",
       "      <th>547468</th>\n",
       "      <td>2012-09-26</td>\n",
       "      <td>619</td>\n",
       "      <td>55928</td>\n",
       "      <td>1</td>\n",
       "      <td>35.62</td>\n",
       "      <td>0.00</td>\n",
       "      <td>0.0</td>\n",
       "    </tr>\n",
       "    <tr>\n",
       "      <th>220813</th>\n",
       "      <td>2012-05-27</td>\n",
       "      <td>667</td>\n",
       "      <td>47363</td>\n",
       "      <td>1</td>\n",
       "      <td>56.28</td>\n",
       "      <td>0.00</td>\n",
       "      <td>0.0</td>\n",
       "    </tr>\n",
       "  </tbody>\n",
       "</table>\n",
       "<p>100000 rows × 7 columns</p>\n",
       "</div>"
      ],
      "text/plain": [
       "               date  customer_id  item_id  quantity  selling_price  \\\n",
       "991011   2013-03-01         1492    42140         1         101.16   \n",
       "68134    2012-03-22         1132     6871         1          95.82   \n",
       "570911   2012-10-03          369    17880         1          89.05   \n",
       "1046733  2013-03-22          829    22559         1          66.97   \n",
       "784877   2012-12-17          231    35039         2          17.81   \n",
       "...             ...          ...      ...       ...            ...   \n",
       "538435   2012-09-22         1555    22591         1          89.05   \n",
       "1020134  2013-03-13          948    28880         2          17.81   \n",
       "1134911  2013-04-24          957    12013         2         227.26   \n",
       "547468   2012-09-26          619    55928         1          35.62   \n",
       "220813   2012-05-27          667    47363         1          56.28   \n",
       "\n",
       "         other_discount  coupon_discount  \n",
       "991011             0.00              0.0  \n",
       "68134            -10.69              0.0  \n",
       "570911           -17.45              0.0  \n",
       "1046733          -21.73              0.0  \n",
       "784877             0.00              0.0  \n",
       "...                 ...              ...  \n",
       "538435           -17.45              0.0  \n",
       "1020134            0.00              0.0  \n",
       "1134911            0.00              0.0  \n",
       "547468             0.00              0.0  \n",
       "220813             0.00              0.0  \n",
       "\n",
       "[100000 rows x 7 columns]"
      ]
     },
     "execution_count": 9,
     "metadata": {},
     "output_type": "execute_result"
    }
   ],
   "source": [
    "cus_tsc_df=cus_tsc_df.sample(n=100000)\n",
    "cus_tsc_df"
   ]
  },
  {
   "cell_type": "code",
   "execution_count": 10,
   "metadata": {
    "execution": {
     "iopub.execute_input": "2020-10-12T17:07:44.938113Z",
     "iopub.status.busy": "2020-10-12T17:07:44.937309Z",
     "iopub.status.idle": "2020-10-12T17:07:46.151519Z",
     "shell.execute_reply": "2020-10-12T17:07:46.150880Z"
    },
    "papermill": {
     "duration": 1.242441,
     "end_time": "2020-10-12T17:07:46.151698",
     "exception": false,
     "start_time": "2020-10-12T17:07:44.909257",
     "status": "completed"
    },
    "tags": []
   },
   "outputs": [],
   "source": [
    "# merging train_df and cus_tsc_df\n",
    "train_tsc_df=pd.merge(train_df,cus_tsc_df,left_on='customer_id',right_on='customer_id')\n",
    "\n",
    "# merging test_df and cus_tsc_df\n",
    "test_tsc_df=pd.merge(test_df, cus_tsc_df, left_on='customer_id',right_on='customer_id')\n"
   ]
  },
  {
   "cell_type": "code",
   "execution_count": 11,
   "metadata": {
    "collapsed": true,
    "execution": {
     "iopub.execute_input": "2020-10-12T17:07:46.204489Z",
     "iopub.status.busy": "2020-10-12T17:07:46.202818Z",
     "iopub.status.idle": "2020-10-12T17:07:46.594321Z",
     "shell.execute_reply": "2020-10-12T17:07:46.593680Z"
    },
    "papermill": {
     "duration": 0.420154,
     "end_time": "2020-10-12T17:07:46.594467",
     "exception": false,
     "start_time": "2020-10-12T17:07:46.174313",
     "status": "completed"
    },
    "tags": []
   },
   "outputs": [],
   "source": [
    "test_tsc_df=test_tsc_df.drop('date',axis=1)"
   ]
  },
  {
   "cell_type": "code",
   "execution_count": 12,
   "metadata": {
    "execution": {
     "iopub.execute_input": "2020-10-12T17:07:46.659377Z",
     "iopub.status.busy": "2020-10-12T17:07:46.658189Z",
     "iopub.status.idle": "2020-10-12T17:07:46.664515Z",
     "shell.execute_reply": "2020-10-12T17:07:46.663775Z"
    },
    "papermill": {
     "duration": 0.047966,
     "end_time": "2020-10-12T17:07:46.664662",
     "exception": false,
     "start_time": "2020-10-12T17:07:46.616696",
     "status": "completed"
    },
    "tags": []
   },
   "outputs": [
    {
     "data": {
      "text/html": [
       "<div>\n",
       "<style scoped>\n",
       "    .dataframe tbody tr th:only-of-type {\n",
       "        vertical-align: middle;\n",
       "    }\n",
       "\n",
       "    .dataframe tbody tr th {\n",
       "        vertical-align: top;\n",
       "    }\n",
       "\n",
       "    .dataframe thead th {\n",
       "        text-align: right;\n",
       "    }\n",
       "</style>\n",
       "<table border=\"1\" class=\"dataframe\">\n",
       "  <thead>\n",
       "    <tr style=\"text-align: right;\">\n",
       "      <th></th>\n",
       "      <th>id</th>\n",
       "      <th>campaign_id</th>\n",
       "      <th>coupon_id</th>\n",
       "      <th>customer_id</th>\n",
       "      <th>item_id</th>\n",
       "      <th>quantity</th>\n",
       "      <th>selling_price</th>\n",
       "      <th>other_discount</th>\n",
       "      <th>coupon_discount</th>\n",
       "    </tr>\n",
       "  </thead>\n",
       "  <tbody>\n",
       "    <tr>\n",
       "      <th>0</th>\n",
       "      <td>3</td>\n",
       "      <td>22</td>\n",
       "      <td>869</td>\n",
       "      <td>967</td>\n",
       "      <td>45359</td>\n",
       "      <td>1</td>\n",
       "      <td>106.50</td>\n",
       "      <td>-53.43</td>\n",
       "      <td>0.0</td>\n",
       "    </tr>\n",
       "    <tr>\n",
       "      <th>1</th>\n",
       "      <td>3</td>\n",
       "      <td>22</td>\n",
       "      <td>869</td>\n",
       "      <td>967</td>\n",
       "      <td>49913</td>\n",
       "      <td>1</td>\n",
       "      <td>53.43</td>\n",
       "      <td>-13.89</td>\n",
       "      <td>0.0</td>\n",
       "    </tr>\n",
       "    <tr>\n",
       "      <th>2</th>\n",
       "      <td>3</td>\n",
       "      <td>22</td>\n",
       "      <td>869</td>\n",
       "      <td>967</td>\n",
       "      <td>67202</td>\n",
       "      <td>1</td>\n",
       "      <td>213.36</td>\n",
       "      <td>0.00</td>\n",
       "      <td>0.0</td>\n",
       "    </tr>\n",
       "    <tr>\n",
       "      <th>3</th>\n",
       "      <td>3</td>\n",
       "      <td>22</td>\n",
       "      <td>869</td>\n",
       "      <td>967</td>\n",
       "      <td>36438</td>\n",
       "      <td>1</td>\n",
       "      <td>106.50</td>\n",
       "      <td>-35.62</td>\n",
       "      <td>0.0</td>\n",
       "    </tr>\n",
       "    <tr>\n",
       "      <th>4</th>\n",
       "      <td>3</td>\n",
       "      <td>22</td>\n",
       "      <td>869</td>\n",
       "      <td>967</td>\n",
       "      <td>15271</td>\n",
       "      <td>1</td>\n",
       "      <td>23.87</td>\n",
       "      <td>0.00</td>\n",
       "      <td>0.0</td>\n",
       "    </tr>\n",
       "    <tr>\n",
       "      <th>...</th>\n",
       "      <td>...</td>\n",
       "      <td>...</td>\n",
       "      <td>...</td>\n",
       "      <td>...</td>\n",
       "      <td>...</td>\n",
       "      <td>...</td>\n",
       "      <td>...</td>\n",
       "      <td>...</td>\n",
       "      <td>...</td>\n",
       "    </tr>\n",
       "    <tr>\n",
       "      <th>4624083</th>\n",
       "      <td>106228</td>\n",
       "      <td>24</td>\n",
       "      <td>43</td>\n",
       "      <td>710</td>\n",
       "      <td>4430</td>\n",
       "      <td>1</td>\n",
       "      <td>89.05</td>\n",
       "      <td>-6.06</td>\n",
       "      <td>0.0</td>\n",
       "    </tr>\n",
       "    <tr>\n",
       "      <th>4624084</th>\n",
       "      <td>106228</td>\n",
       "      <td>24</td>\n",
       "      <td>43</td>\n",
       "      <td>710</td>\n",
       "      <td>31372</td>\n",
       "      <td>1</td>\n",
       "      <td>35.62</td>\n",
       "      <td>-35.26</td>\n",
       "      <td>0.0</td>\n",
       "    </tr>\n",
       "    <tr>\n",
       "      <th>4624085</th>\n",
       "      <td>106228</td>\n",
       "      <td>24</td>\n",
       "      <td>43</td>\n",
       "      <td>710</td>\n",
       "      <td>41872</td>\n",
       "      <td>1</td>\n",
       "      <td>66.97</td>\n",
       "      <td>0.00</td>\n",
       "      <td>0.0</td>\n",
       "    </tr>\n",
       "    <tr>\n",
       "      <th>4624086</th>\n",
       "      <td>106228</td>\n",
       "      <td>24</td>\n",
       "      <td>43</td>\n",
       "      <td>710</td>\n",
       "      <td>46699</td>\n",
       "      <td>2</td>\n",
       "      <td>106.86</td>\n",
       "      <td>0.00</td>\n",
       "      <td>0.0</td>\n",
       "    </tr>\n",
       "    <tr>\n",
       "      <th>4624087</th>\n",
       "      <td>106228</td>\n",
       "      <td>24</td>\n",
       "      <td>43</td>\n",
       "      <td>710</td>\n",
       "      <td>65450</td>\n",
       "      <td>2</td>\n",
       "      <td>56.28</td>\n",
       "      <td>-99.74</td>\n",
       "      <td>0.0</td>\n",
       "    </tr>\n",
       "  </tbody>\n",
       "</table>\n",
       "<p>4624088 rows × 9 columns</p>\n",
       "</div>"
      ],
      "text/plain": [
       "             id  campaign_id  coupon_id  customer_id  item_id  quantity  \\\n",
       "0             3           22        869          967    45359         1   \n",
       "1             3           22        869          967    49913         1   \n",
       "2             3           22        869          967    67202         1   \n",
       "3             3           22        869          967    36438         1   \n",
       "4             3           22        869          967    15271         1   \n",
       "...         ...          ...        ...          ...      ...       ...   \n",
       "4624083  106228           24         43          710     4430         1   \n",
       "4624084  106228           24         43          710    31372         1   \n",
       "4624085  106228           24         43          710    41872         1   \n",
       "4624086  106228           24         43          710    46699         2   \n",
       "4624087  106228           24         43          710    65450         2   \n",
       "\n",
       "         selling_price  other_discount  coupon_discount  \n",
       "0               106.50          -53.43              0.0  \n",
       "1                53.43          -13.89              0.0  \n",
       "2               213.36            0.00              0.0  \n",
       "3               106.50          -35.62              0.0  \n",
       "4                23.87            0.00              0.0  \n",
       "...                ...             ...              ...  \n",
       "4624083          89.05           -6.06              0.0  \n",
       "4624084          35.62          -35.26              0.0  \n",
       "4624085          66.97            0.00              0.0  \n",
       "4624086         106.86            0.00              0.0  \n",
       "4624087          56.28          -99.74              0.0  \n",
       "\n",
       "[4624088 rows x 9 columns]"
      ]
     },
     "execution_count": 12,
     "metadata": {},
     "output_type": "execute_result"
    }
   ],
   "source": [
    "test_tsc_df"
   ]
  },
  {
   "cell_type": "code",
   "execution_count": 13,
   "metadata": {
    "execution": {
     "iopub.execute_input": "2020-10-12T17:07:46.717784Z",
     "iopub.status.busy": "2020-10-12T17:07:46.716671Z",
     "iopub.status.idle": "2020-10-12T17:07:46.721307Z",
     "shell.execute_reply": "2020-10-12T17:07:46.720544Z"
    },
    "papermill": {
     "duration": 0.033904,
     "end_time": "2020-10-12T17:07:46.721434",
     "exception": false,
     "start_time": "2020-10-12T17:07:46.687530",
     "status": "completed"
    },
    "tags": []
   },
   "outputs": [
    {
     "data": {
      "text/plain": [
       "['id',\n",
       " 'campaign_id',\n",
       " 'coupon_id',\n",
       " 'customer_id',\n",
       " 'redemption_status',\n",
       " 'date',\n",
       " 'item_id',\n",
       " 'quantity',\n",
       " 'selling_price',\n",
       " 'other_discount',\n",
       " 'coupon_discount']"
      ]
     },
     "execution_count": 13,
     "metadata": {},
     "output_type": "execute_result"
    }
   ],
   "source": [
    "[i for i in train_tsc_df.columns]"
   ]
  },
  {
   "cell_type": "code",
   "execution_count": 14,
   "metadata": {
    "execution": {
     "iopub.execute_input": "2020-10-12T17:07:46.779896Z",
     "iopub.status.busy": "2020-10-12T17:07:46.778960Z",
     "iopub.status.idle": "2020-10-12T17:42:50.151607Z",
     "shell.execute_reply": "2020-10-12T17:42:50.152505Z"
    },
    "papermill": {
     "duration": 2103.407441,
     "end_time": "2020-10-12T17:42:50.152780",
     "exception": false,
     "start_time": "2020-10-12T17:07:46.745339",
     "status": "completed"
    },
    "tags": []
   },
   "outputs": [
    {
     "name": "stdout",
     "output_type": "stream",
     "text": [
      "cross validation scores: [0.98679393 0.98621213 0.9866923  0.98648252 0.98378493 0.98682833\n",
      " 0.98653661 0.98544019 0.98530089 0.98589416] \n",
      " mean of cross validation scores: 0.9859965988324524\n"
     ]
    }
   ],
   "source": [
    "# Training coupon redemption based on customer demographics dataset\n",
    "# includes categorical data\n",
    "\n",
    "from sklearn.ensemble import RandomForestClassifier\n",
    "from sklearn.model_selection import train_test_split\n",
    "from sklearn.metrics import precision_score\n",
    "from sklearn.model_selection import cross_val_score\n",
    "\n",
    "X=train_tsc_df[['id',\n",
    " 'campaign_id',\n",
    " 'coupon_id',\n",
    " 'customer_id',\n",
    " 'item_id',\n",
    " 'quantity',\n",
    " 'selling_price',\n",
    " 'other_discount',\n",
    " 'coupon_discount']]\n",
    "\n",
    "y=train_tsc_df['redemption_status']\n",
    "\n",
    "model=RandomForestClassifier(n_estimators=10).fit(X,y)\n",
    "cv_scores=cross_val_score(model,X,y,cv=10)\n",
    "\n",
    "print('cross validation scores:',cv_scores,'\\n','mean of cross validation scores:',np.mean(cv_scores))"
   ]
  },
  {
   "cell_type": "code",
   "execution_count": 15,
   "metadata": {
    "execution": {
     "iopub.execute_input": "2020-10-12T17:42:50.212392Z",
     "iopub.status.busy": "2020-10-12T17:42:50.211479Z",
     "iopub.status.idle": "2020-10-12T17:42:50.455087Z",
     "shell.execute_reply": "2020-10-12T17:42:50.455646Z"
    },
    "papermill": {
     "duration": 0.278156,
     "end_time": "2020-10-12T17:42:50.455810",
     "exception": false,
     "start_time": "2020-10-12T17:42:50.177654",
     "status": "completed"
    },
    "tags": []
   },
   "outputs": [
    {
     "data": {
      "text/plain": [
       "Text(0.5, 1.0, 'Cross Validation Scores')"
      ]
     },
     "execution_count": 15,
     "metadata": {},
     "output_type": "execute_result"
    },
    {
     "data": {
      "image/png": "[encoded data removed]",
      "text/plain": [
       "<Figure size 432x288 with 1 Axes>"
      ]
     },
     "metadata": {
      "needs_background": "light"
     },
     "output_type": "display_data"
    }
   ],
   "source": [
    "import matplotlib.pyplot as plt\n",
    "sns.lineplot(np.arange(len(cv_scores)),cv_scores)\n",
    "plt.gca().set_title('Cross Validation Scores')"
   ]
  },
  {
   "cell_type": "code",
   "execution_count": 16,
   "metadata": {
    "execution": {
     "iopub.execute_input": "2020-10-12T17:42:50.515786Z",
     "iopub.status.busy": "2020-10-12T17:42:50.514947Z",
     "iopub.status.idle": "2020-10-12T17:42:56.692498Z",
     "shell.execute_reply": "2020-10-12T17:42:56.691523Z"
    },
    "papermill": {
     "duration": 6.21059,
     "end_time": "2020-10-12T17:42:56.692669",
     "exception": false,
     "start_time": "2020-10-12T17:42:50.482079",
     "status": "completed"
    },
    "tags": []
   },
   "outputs": [],
   "source": [
    "predictions=model.predict(test_tsc_df)"
   ]
  },
  {
   "cell_type": "code",
   "execution_count": 17,
   "metadata": {
    "execution": {
     "iopub.execute_input": "2020-10-12T17:42:56.779139Z",
     "iopub.status.busy": "2020-10-12T17:42:56.768935Z",
     "iopub.status.idle": "2020-10-12T17:43:03.059817Z",
     "shell.execute_reply": "2020-10-12T17:43:03.060421Z"
    },
    "papermill": {
     "duration": 6.341863,
     "end_time": "2020-10-12T17:43:03.060615",
     "exception": false,
     "start_time": "2020-10-12T17:42:56.718752",
     "status": "completed"
    },
    "tags": []
   },
   "outputs": [
    {
     "data": {
      "text/plain": [
       "(5254, 4618834)"
      ]
     },
     "execution_count": 17,
     "metadata": {},
     "output_type": "execute_result"
    }
   ],
   "source": [
    "sum([1 for i in predictions if i==1]), sum([1 for i in predictions if i==0])"
   ]
  },
  {
   "cell_type": "code",
   "execution_count": 18,
   "metadata": {
    "execution": {
     "iopub.execute_input": "2020-10-12T17:43:03.125969Z",
     "iopub.status.busy": "2020-10-12T17:43:03.125208Z",
     "iopub.status.idle": "2020-10-12T17:43:14.728617Z",
     "shell.execute_reply": "2020-10-12T17:43:14.727936Z"
    },
    "papermill": {
     "duration": 11.640435,
     "end_time": "2020-10-12T17:43:14.728744",
     "exception": false,
     "start_time": "2020-10-12T17:43:03.088309",
     "status": "completed"
    },
    "tags": []
   },
   "outputs": [
    {
     "data": {
      "text/plain": [
       "Text(0.5, 1.0, 'Coupons Redeemed v/s Coupons not Redeemed: \\n(0 - Coupon not redeemed, 1 - Coupon redeemed)')"
      ]
     },
     "execution_count": 18,
     "metadata": {},
     "output_type": "execute_result"
    },
    {
     "data": {
      "image/png": "[encoded data removed]",
      "text/plain": [
       "<Figure size 720x360 with 1 Axes>"
      ]
     },
     "metadata": {},
     "output_type": "display_data"
    }
   ],
   "source": [
    "import matplotlib.pyplot as plt\n",
    "sns.set_style(\"whitegrid\")\n",
    "sns.set_palette(\"husl\")\n",
    "plt.figure(figsize=(10,5))\n",
    "sns.scatterplot(np.arange(len(predictions)),predictions,alpha=0.5)\n",
    "\n",
    "plt.gca().set_title('Coupons Redeemed v/s Coupons not Redeemed: \\n(0 - Coupon not redeemed, 1 - Coupon redeemed)')\n"
   ]
  },
  {
   "cell_type": "code",
   "execution_count": null,
   "metadata": {
    "papermill": {
     "duration": 0.027998,
     "end_time": "2020-10-12T17:43:14.785317",
     "exception": false,
     "start_time": "2020-10-12T17:43:14.757319",
     "status": "completed"
    },
    "tags": []
   },
   "outputs": [],
   "source": []
  }
 ],
 "metadata": {
  "kernelspec": {
   "display_name": "Python 3",
   "language": "python",
   "name": "python3"
  },
  "language_info": {
   "codemirror_mode": {
    "name": "ipython",
    "version": 3
   },
   "file_extension": ".py",
   "mimetype": "text/x-python",
   "name": "python",
   "nbconvert_exporter": "python",
   "pygments_lexer": "ipython3",
   "version": "3.7.6"
  },
  "papermill": {
   "duration": 2138.608745,
   "end_time": "2020-10-12T17:43:14.922640",
   "environment_variables": {},
   "exception": null,
   "input_path": "__notebook__.ipynb",
   "output_path": "__notebook__.ipynb",
   "parameters": {},
   "start_time": "2020-10-12T17:07:36.313895",
   "version": "2.1.0"
  }
 },
 "nbformat": 4,
 "nbformat_minor": 4
}
